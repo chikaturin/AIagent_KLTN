{
 "cells": [
  {
   "cell_type": "markdown",
   "metadata": {},
   "source": [
    "# 1 Workflow planning with new\n"
   ]
  },
  {
   "cell_type": "code",
   "execution_count": null,
   "metadata": {},
   "outputs": [
    {
     "name": "stdout",
     "output_type": "stream",
     "text": [
      "zsh:1: command not found: pip\n",
      "zsh:1: command not found: pip\n"
     ]
    }
   ],
   "source": [
    "%pip install google-generativeai\n",
    "%pip install python-dotenv"
   ]
  },
  {
   "cell_type": "code",
   "execution_count": null,
   "metadata": {},
   "outputs": [
    {
     "name": "stdout",
     "output_type": "stream",
     "text": [
      "Collecting google-generativeai\n",
      "  Downloading google_generativeai-0.8.4-py3-none-any.whl.metadata (4.2 kB)\n",
      "Collecting google-ai-generativelanguage==0.6.15 (from google-generativeai)\n",
      "  Downloading google_ai_generativelanguage-0.6.15-py3-none-any.whl.metadata (5.7 kB)\n",
      "Collecting google-api-core (from google-generativeai)\n",
      "  Downloading google_api_core-2.24.2-py3-none-any.whl.metadata (3.0 kB)\n",
      "Collecting google-api-python-client (from google-generativeai)\n",
      "  Downloading google_api_python_client-2.166.0-py2.py3-none-any.whl.metadata (6.6 kB)\n",
      "Requirement already satisfied: google-auth>=2.15.0 in /Library/Frameworks/Python.framework/Versions/3.13/lib/python3.13/site-packages (from google-generativeai) (2.37.0)\n",
      "Requirement already satisfied: protobuf in /Library/Frameworks/Python.framework/Versions/3.13/lib/python3.13/site-packages (from google-generativeai) (5.29.2)\n",
      "Requirement already satisfied: pydantic in /Library/Frameworks/Python.framework/Versions/3.13/lib/python3.13/site-packages (from google-generativeai) (2.10.4)\n",
      "Requirement already satisfied: tqdm in /Library/Frameworks/Python.framework/Versions/3.13/lib/python3.13/site-packages (from google-generativeai) (4.67.1)\n",
      "Requirement already satisfied: typing-extensions in /Library/Frameworks/Python.framework/Versions/3.13/lib/python3.13/site-packages (from google-generativeai) (4.12.2)\n",
      "Collecting proto-plus<2.0.0dev,>=1.22.3 (from google-ai-generativelanguage==0.6.15->google-generativeai)\n",
      "  Downloading proto_plus-1.26.1-py3-none-any.whl.metadata (2.2 kB)\n",
      "Requirement already satisfied: googleapis-common-protos<2.0.0,>=1.56.2 in /Library/Frameworks/Python.framework/Versions/3.13/lib/python3.13/site-packages (from google-api-core->google-generativeai) (1.66.0)\n",
      "Requirement already satisfied: requests<3.0.0,>=2.18.0 in /Library/Frameworks/Python.framework/Versions/3.13/lib/python3.13/site-packages (from google-api-core->google-generativeai) (2.32.3)\n",
      "Requirement already satisfied: cachetools<6.0,>=2.0.0 in /Library/Frameworks/Python.framework/Versions/3.13/lib/python3.13/site-packages (from google-auth>=2.15.0->google-generativeai) (5.5.0)\n",
      "Requirement already satisfied: pyasn1-modules>=0.2.1 in /Library/Frameworks/Python.framework/Versions/3.13/lib/python3.13/site-packages (from google-auth>=2.15.0->google-generativeai) (0.4.1)\n",
      "Requirement already satisfied: rsa<5,>=3.1.4 in /Library/Frameworks/Python.framework/Versions/3.13/lib/python3.13/site-packages (from google-auth>=2.15.0->google-generativeai) (4.9)\n",
      "Collecting httplib2<1.0.0,>=0.19.0 (from google-api-python-client->google-generativeai)\n",
      "  Downloading httplib2-0.22.0-py3-none-any.whl.metadata (2.6 kB)\n",
      "Collecting google-auth-httplib2<1.0.0,>=0.2.0 (from google-api-python-client->google-generativeai)\n",
      "  Downloading google_auth_httplib2-0.2.0-py2.py3-none-any.whl.metadata (2.2 kB)\n",
      "Collecting uritemplate<5,>=3.0.1 (from google-api-python-client->google-generativeai)\n",
      "  Downloading uritemplate-4.1.1-py2.py3-none-any.whl.metadata (2.9 kB)\n",
      "Requirement already satisfied: annotated-types>=0.6.0 in /Library/Frameworks/Python.framework/Versions/3.13/lib/python3.13/site-packages (from pydantic->google-generativeai) (0.7.0)\n",
      "Requirement already satisfied: pydantic-core==2.27.2 in /Library/Frameworks/Python.framework/Versions/3.13/lib/python3.13/site-packages (from pydantic->google-generativeai) (2.27.2)\n",
      "Requirement already satisfied: grpcio<2.0dev,>=1.33.2 in /Library/Frameworks/Python.framework/Versions/3.13/lib/python3.13/site-packages (from google-api-core[grpc]!=2.0.*,!=2.1.*,!=2.10.*,!=2.2.*,!=2.3.*,!=2.4.*,!=2.5.*,!=2.6.*,!=2.7.*,!=2.8.*,!=2.9.*,<3.0.0dev,>=1.34.1->google-ai-generativelanguage==0.6.15->google-generativeai) (1.68.1)\n",
      "Collecting grpcio-status<2.0.dev0,>=1.33.2 (from google-api-core[grpc]!=2.0.*,!=2.1.*,!=2.10.*,!=2.2.*,!=2.3.*,!=2.4.*,!=2.5.*,!=2.6.*,!=2.7.*,!=2.8.*,!=2.9.*,<3.0.0dev,>=1.34.1->google-ai-generativelanguage==0.6.15->google-generativeai)\n",
      "  Downloading grpcio_status-1.71.0-py3-none-any.whl.metadata (1.1 kB)\n",
      "Requirement already satisfied: pyparsing!=3.0.0,!=3.0.1,!=3.0.2,!=3.0.3,<4,>=2.4.2 in /Library/Frameworks/Python.framework/Versions/3.13/lib/python3.13/site-packages (from httplib2<1.0.0,>=0.19.0->google-api-python-client->google-generativeai) (3.2.1)\n",
      "Requirement already satisfied: pyasn1<0.7.0,>=0.4.6 in /Library/Frameworks/Python.framework/Versions/3.13/lib/python3.13/site-packages (from pyasn1-modules>=0.2.1->google-auth>=2.15.0->google-generativeai) (0.6.1)\n",
      "Requirement already satisfied: charset-normalizer<4,>=2 in /Library/Frameworks/Python.framework/Versions/3.13/lib/python3.13/site-packages (from requests<3.0.0,>=2.18.0->google-api-core->google-generativeai) (3.4.1)\n",
      "Requirement already satisfied: idna<4,>=2.5 in /Library/Frameworks/Python.framework/Versions/3.13/lib/python3.13/site-packages (from requests<3.0.0,>=2.18.0->google-api-core->google-generativeai) (3.10)\n",
      "Requirement already satisfied: urllib3<3,>=1.21.1 in /Library/Frameworks/Python.framework/Versions/3.13/lib/python3.13/site-packages (from requests<3.0.0,>=2.18.0->google-api-core->google-generativeai) (2.3.0)\n",
      "Requirement already satisfied: certifi>=2017.4.17 in /Library/Frameworks/Python.framework/Versions/3.13/lib/python3.13/site-packages (from requests<3.0.0,>=2.18.0->google-api-core->google-generativeai) (2024.12.14)\n",
      "Collecting grpcio<2.0dev,>=1.33.2 (from google-api-core[grpc]!=2.0.*,!=2.1.*,!=2.10.*,!=2.2.*,!=2.3.*,!=2.4.*,!=2.5.*,!=2.6.*,!=2.7.*,!=2.8.*,!=2.9.*,<3.0.0dev,>=1.34.1->google-ai-generativelanguage==0.6.15->google-generativeai)\n",
      "  Downloading grpcio-1.71.0-cp313-cp313-macosx_10_14_universal2.whl.metadata (3.8 kB)\n",
      "Downloading google_generativeai-0.8.4-py3-none-any.whl (175 kB)\n",
      "Downloading google_ai_generativelanguage-0.6.15-py3-none-any.whl (1.3 MB)\n",
      "\u001b[2K   \u001b[90m━━━━━━━━━━━━━━━━━━━━━━━━━━━━━━━━━━━━━━━━\u001b[0m \u001b[32m1.3/1.3 MB\u001b[0m \u001b[31m2.0 MB/s\u001b[0m eta \u001b[36m0:00:00\u001b[0ma \u001b[36m0:00:01\u001b[0m\n",
      "\u001b[?25hDownloading google_api_core-2.24.2-py3-none-any.whl (160 kB)\n",
      "Downloading google_api_python_client-2.166.0-py2.py3-none-any.whl (13.2 MB)\n",
      "\u001b[2K   \u001b[90m━━━━━━━━━━━━━━━━━━━━━━━━━━━━━━━━━━━━━━━━\u001b[0m \u001b[32m13.2/13.2 MB\u001b[0m \u001b[31m2.1 MB/s\u001b[0m eta \u001b[36m0:00:00\u001b[0m00:01\u001b[0m00:01\u001b[0m\n",
      "\u001b[?25hDownloading google_auth_httplib2-0.2.0-py2.py3-none-any.whl (9.3 kB)\n",
      "Downloading httplib2-0.22.0-py3-none-any.whl (96 kB)\n",
      "Downloading proto_plus-1.26.1-py3-none-any.whl (50 kB)\n",
      "Downloading uritemplate-4.1.1-py2.py3-none-any.whl (10 kB)\n",
      "Downloading grpcio_status-1.71.0-py3-none-any.whl (14 kB)\n",
      "Downloading grpcio-1.71.0-cp313-cp313-macosx_10_14_universal2.whl (11.3 MB)\n",
      "\u001b[2K   \u001b[90m━━━━━━━━━━━━━━━━━━━━━━━━━━━━━━━━━━━━━━━━\u001b[0m \u001b[32m11.3/11.3 MB\u001b[0m \u001b[31m2.2 MB/s\u001b[0m eta \u001b[36m0:00:00\u001b[0m00:01\u001b[0m00:01\u001b[0m\n",
      "\u001b[?25hInstalling collected packages: uritemplate, proto-plus, httplib2, grpcio, grpcio-status, google-auth-httplib2, google-api-core, google-api-python-client, google-ai-generativelanguage, google-generativeai\n",
      "  Attempting uninstall: grpcio\n",
      "    Found existing installation: grpcio 1.68.1\n",
      "    Uninstalling grpcio-1.68.1:\n",
      "      Successfully uninstalled grpcio-1.68.1\n",
      "Successfully installed google-ai-generativelanguage-0.6.15 google-api-core-2.24.2 google-api-python-client-2.166.0 google-auth-httplib2-0.2.0 google-generativeai-0.8.4 grpcio-1.71.0 grpcio-status-1.71.0 httplib2-0.22.0 proto-plus-1.26.1 uritemplate-4.1.1\n",
      "\n",
      "\u001b[1m[\u001b[0m\u001b[34;49mnotice\u001b[0m\u001b[1;39;49m]\u001b[0m\u001b[39;49m A new release of pip is available: \u001b[0m\u001b[31;49m24.3.1\u001b[0m\u001b[39;49m -> \u001b[0m\u001b[32;49m25.0.1\u001b[0m\n",
      "\u001b[1m[\u001b[0m\u001b[34;49mnotice\u001b[0m\u001b[1;39;49m]\u001b[0m\u001b[39;49m To update, run: \u001b[0m\u001b[32;49mpython3 -m pip install --upgrade pip\u001b[0m\n",
      "Note: you may need to restart the kernel to use updated packages.\n"
     ]
    },
    {
     "name": "stderr",
     "output_type": "stream",
     "text": [
      "/Library/Frameworks/Python.framework/Versions/3.13/lib/python3.13/site-packages/tqdm/auto.py:21: TqdmWarning: IProgress not found. Please update jupyter and ipywidgets. See https://ipywidgets.readthedocs.io/en/stable/user_install.html\n",
      "  from .autonotebook import tqdm as notebook_tqdm\n"
     ]
    }
   ],
   "source": [
    "from dotenv import load_dotenv\n",
    "import os\n",
    "import google.generativeai as genai "
   ]
  },
  {
   "cell_type": "code",
   "execution_count": 30,
   "metadata": {},
   "outputs": [],
   "source": [
    "questions = [\n",
    "    \"1. Mục tiêu chính của bạn là gì (Học tập / Làm việc / Sức khỏe / Phát triển cá nhân / Khác...)?\",\n",
    "    \"2. Bạn rảnh lúc nào trong ngày? (Sáng / Trưa / Tối / Cuối tuần...)?\",\n",
    "    \"3. Bạn muốn hệ thống lên kế hoạch theo: (Ngày / Tuần)?\",\n",
    "    \"4. Ưu tiên của bạn là gì? (Ví dụ: Sức khỏe > Học tập > Công việc)\",\n",
    "    \"5. Thói quen ngủ / giờ thức dậy?\"\n",
    "]\n",
    "\n",
    "answers = {}\n",
    "\n",
    "for i, question in enumerate(questions, start=1):\n",
    "    user_input = input(f\"Bot: {question}\\nBạn: \")\n",
    "    if user_input.lower() in ['thoát', 'exit', 'bye', 'tạm biệt']:\n",
    "        print(\"Bot: Tạm biệt nhé!\")\n",
    "        break\n",
    "    answers[f\"{i}\"] = user_input\n"
   ]
  },
  {
   "cell_type": "code",
   "execution_count": 31,
   "metadata": {},
   "outputs": [
    {
     "name": "stdout",
     "output_type": "stream",
     "text": [
      "Bot: ```json\n",
      "{\n",
      "  \"Vấn đề cần xem xét, điều chỉnh và đề xuất\": {\n",
      "    \"Ưu tiên\": \"Thứ tự ưu tiên 'Sức khoẻ= Học tập >Công việc' là tốt, tuy nhiên cần đảm bảo sự cân bằng. Nếu công việc bị ảnh hưởng quá nhiều, cần xem xét lại cách phân bổ thời gian.\",\n",
      "    \"Thời gian ngủ\": \"Giờ ngủ 23h-6h30 là đủ (7.5 tiếng), nhưng cần đảm bảo chất lượng giấc ngủ. Tránh sử dụng thiết bị điện tử trước khi ngủ, tạo không gian ngủ thoải mái.\",\n",
      "    \"Thời gian biểu\": \"Việc có thời gian rảnh vào sáng và chủ nhật là tốt để thư giãn và phục hồi. Cần đảm bảo rằng thời gian này được sử dụng hiệu quả để tránh lãng phí. Nên có lịch trình cụ thể cho các hoạt động vào ngày nghỉ.\",\n",
      "    \"Độ phù hợp\": \"Kế hoạch có vẻ phù hợp, nhưng cần theo dõi và điều chỉnh liên tục để đảm bảo hiệu quả và tránh căng thẳng quá mức. Đặc biệt, cần linh hoạt điều chỉnh khi có các yếu tố bất ngờ xảy ra (ví dụ: ốm đau, sự kiện đặc biệt).\"\n",
      "  }\n",
      "}\n",
      "```\n",
      "\n"
     ]
    }
   ],
   "source": [
    "load_dotenv()\n",
    "AI_KEY = os.getenv(\"AI_API_KEY\")\n",
    "genai.configure(api_key=AI_KEY)\n",
    "\n",
    "model_gemini = genai.GenerativeModel(\"gemini-2.0-flash\")\n",
    "\n",
    "response = model_gemini.generate_content(\n",
    "    f\"Bạn là chuyên gia tư vấn. Dựa trên những câu trả lời sau từ người dùng: {answers}, hãy tư vấn xem kế hoạch đó phù hợp hay chưa và cần điều chỉnh gì không ví dụ giờ giấc ngủ, thứ tự ưu tiên. Hãy đề cập đến những gì chưa phù hợp và cần điều chỉnh nếu có trả về json:'Vấn đề cần xem xét, điều chỉnh và để xuất' không cần phân tích . Nếu không có vấn đề gì thì hãy nói json:'not problem'.\\n\\n\"\n",
    ")\n",
    "\n",
    "print(\"Bot:\", response.text)\n"
   ]
  },
  {
   "cell_type": "code",
   "execution_count": 32,
   "metadata": {},
   "outputs": [
    {
     "name": "stdout",
     "output_type": "stream",
     "text": [
      "Bot: ```json\n",
      "{\n",
      "  \"Lịch trình\": {\n",
      "    \"Mục tiêu\": \"Học tập và sức khỏe\",\n",
      "    \"Thời gian ưu tiên\": \"Sáng và Chủ nhật\",\n",
      "    \"Độ dài\": \"Tuần\",\n",
      "    \"Thứ tự ưu tiên\": \"Sức khỏe = Học tập > Công việc\",\n",
      "    \"Giờ ngủ\": \"23h - 6h30\",\n",
      "    \"Kế hoạch mẫu\": {\n",
      "      \"Thứ hai - Thứ bảy\": {\n",
      "        \"6:30 - 7:00\": \"Vệ sinh cá nhân, chuẩn bị\",\n",
      "        \"7:00 - 12:00\": \"Học tập (ưu tiên vào buổi sáng)\",\n",
      "        \"12:00 - 13:00\": \"Ăn trưa, nghỉ ngơi\",\n",
      "        \"13:00 - 17:00\": \"Học tập/Công việc (linh hoạt tùy theo khối lượng)\",\n",
      "        \"17:00 - 18:00\": \"Vận động, thể dục thể thao (ưu tiên sức khỏe)\",\n",
      "        \"18:00 - 19:00\": \"Ăn tối\",\n",
      "        \"19:00 - 22:00\": \"Học tập/Công việc (tùy chọn), giải trí nhẹ nhàng\",\n",
      "        \"22:00 - 23:00\": \"Chuẩn bị đi ngủ, thư giãn\",\n",
      "        \"23:00 - 6:30\": \"Ngủ\"\n",
      "      },\n",
      "      \"Chủ nhật\": {\n",
      "        \"6:30 - 7:00\": \"Vệ sinh cá nhân, chuẩn bị\",\n",
      "        \"7:00 - 12:00\": \"Học tập (ưu tiên vào buổi sáng)\",\n",
      "        \"12:00 - 13:00\": \"Ăn trưa, nghỉ ngơi\",\n",
      "        \"13:00 - 17:00\": \"Hoạt động ngoại khóa, thư giãn, gặp gỡ bạn bè\",\n",
      "        \"17:00 - 18:00\": \"Vận động nhẹ nhàng\",\n",
      "        \"18:00 - 19:00\": \"Ăn tối\",\n",
      "        \"19:00 - 22:00\": \"Lên kế hoạch cho tuần mới, chuẩn bị bài vở\",\n",
      "        \"22:00 - 23:00\": \"Chuẩn bị đi ngủ, thư giãn\",\n",
      "        \"23:00 - 6:30\": \"Ngủ\"\n",
      "      },\n",
      "      \"Lưu ý\": [\n",
      "        \"Lịch trình này chỉ là một ví dụ, cần điều chỉnh cho phù hợp với nhu cầu và lịch trình cá nhân.\",\n",
      "        \"Ưu tiên các hoạt động liên quan đến sức khỏe, đặc biệt là vận động thể chất.\",\n",
      "        \"Đảm bảo ngủ đủ giấc (7-8 tiếng mỗi đêm).\",\n",
      "        \"Linh hoạt trong việc phân bổ thời gian cho học tập và công việc, tùy thuộc vào khối lượng công việc và thời hạn.\",\n",
      "        \"Dành thời gian cho các hoạt động giải trí và thư giãn để giảm căng thẳng.\"\n",
      "      ]\n",
      "    }\n",
      "  }\n",
      "}\n",
      "```\n"
     ]
    }
   ],
   "source": [
    "# nếu không đổi và muốn giữ\n",
    "response = model_gemini.generate_content(f\"Bạn là chuyên gia lập lịch hãy lên lịch phù hợp với những câu trả lời sau từ người dùng: {answers} và trả về json:'Lịch trình' không cần phân tích. Nếu không có lịch trình nào thì hãy nói json:'not schedule'.\\n\\n\")\n",
    "print(\"Bot:\", response.text)"
   ]
  }
 ],
 "metadata": {
  "kernelspec": {
   "display_name": "Python 3",
   "language": "python",
   "name": "python3"
  },
  "language_info": {
   "codemirror_mode": {
    "name": "ipython",
    "version": 3
   },
   "file_extension": ".py",
   "mimetype": "text/x-python",
   "name": "python",
   "nbconvert_exporter": "python",
   "pygments_lexer": "ipython3",
   "version": "3.13.1"
  }
 },
 "nbformat": 4,
 "nbformat_minor": 2
}
